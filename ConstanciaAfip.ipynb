{
  "nbformat": 4,
  "nbformat_minor": 0,
  "metadata": {
    "colab": {
      "provenance": [],
      "authorship_tag": "ABX9TyPVs23NUg5aouk0W5f2xeRw",
      "include_colab_link": true
    },
    "kernelspec": {
      "name": "python3",
      "display_name": "Python 3"
    },
    "language_info": {
      "name": "python"
    }
  },
  "cells": [
    {
      "cell_type": "markdown",
      "metadata": {
        "id": "view-in-github",
        "colab_type": "text"
      },
      "source": [
        "<a href=\"https://colab.research.google.com/github/celota/TestGitHub/blob/main/ConstanciaAfip.ipynb\" target=\"_parent\"><img src=\"https://colab.research.google.com/assets/colab-badge.svg\" alt=\"Open In Colab\"/></a>"
      ]
    },
    {
      "cell_type": "code",
      "execution_count": 5,
      "metadata": {
        "colab": {
          "base_uri": "https://localhost:8080/"
        },
        "collapsed": true,
        "id": "YjypT29T9j5A",
        "outputId": "d1d05ce4-d9fc-4aa0-ace2-e4970b668a93"
      },
      "outputs": [
        {
          "output_type": "stream",
          "name": "stdout",
          "text": [
            "Collecting seleniumbase\n",
            "  Downloading seleniumbase-4.31.6-py3-none-any.whl.metadata (85 kB)\n",
            "\u001b[?25l     \u001b[90m━━━━━━━━━━━━━━━━━━━━━━━━━━━━━━━━━━━━━━━━\u001b[0m \u001b[32m0.0/85.3 kB\u001b[0m \u001b[31m?\u001b[0m eta \u001b[36m-:--:--\u001b[0m\r\u001b[2K     \u001b[90m━━━━━━━━━━━━━━━━━━━━━━━━━━━━━━━━━━━━━━━━\u001b[0m \u001b[32m85.3/85.3 kB\u001b[0m \u001b[31m2.4 MB/s\u001b[0m eta \u001b[36m0:00:00\u001b[0m\n",
            "\u001b[?25hRequirement already satisfied: pip>=24.1.2 in /usr/local/lib/python3.10/dist-packages (from seleniumbase) (24.1.2)\n",
            "Requirement already satisfied: packaging>=24.1 in /usr/local/lib/python3.10/dist-packages (from seleniumbase) (24.1)\n",
            "Requirement already satisfied: wheel>=0.44.0 in /usr/local/lib/python3.10/dist-packages (from seleniumbase) (0.44.0)\n",
            "Requirement already satisfied: attrs>=24.2.0 in /usr/local/lib/python3.10/dist-packages (from seleniumbase) (24.2.0)\n",
            "Requirement already satisfied: certifi>=2024.8.30 in /usr/local/lib/python3.10/dist-packages (from seleniumbase) (2024.8.30)\n",
            "Requirement already satisfied: exceptiongroup>=1.2.2 in /usr/local/lib/python3.10/dist-packages (from seleniumbase) (1.2.2)\n",
            "Requirement already satisfied: filelock>=3.16.1 in /usr/local/lib/python3.10/dist-packages (from seleniumbase) (3.16.1)\n",
            "Collecting fasteners>=0.19 (from seleniumbase)\n",
            "  Downloading fasteners-0.19-py3-none-any.whl.metadata (4.9 kB)\n",
            "Collecting pynose>=1.5.3 (from seleniumbase)\n",
            "  Downloading pynose-1.5.3-py3-none-any.whl.metadata (19 kB)\n",
            "Requirement already satisfied: platformdirs>=4.3.6 in /usr/local/lib/python3.10/dist-packages (from seleniumbase) (4.3.6)\n",
            "Requirement already satisfied: typing-extensions>=4.12.2 in /usr/local/lib/python3.10/dist-packages (from seleniumbase) (4.12.2)\n",
            "Collecting sbvirtualdisplay>=1.3.0 (from seleniumbase)\n",
            "  Downloading sbvirtualdisplay-1.3.0-py2.py3-none-any.whl.metadata (4.1 kB)\n",
            "Requirement already satisfied: six>=1.16.0 in /usr/local/lib/python3.10/dist-packages (from seleniumbase) (1.16.0)\n",
            "Collecting parse>=1.20.2 (from seleniumbase)\n",
            "  Downloading parse-1.20.2-py2.py3-none-any.whl.metadata (22 kB)\n",
            "Collecting parse-type>=0.6.4 (from seleniumbase)\n",
            "  Downloading parse_type-0.6.4-py2.py3-none-any.whl.metadata (12 kB)\n",
            "Collecting colorama>=0.4.6 (from seleniumbase)\n",
            "  Downloading colorama-0.4.6-py2.py3-none-any.whl.metadata (17 kB)\n",
            "Requirement already satisfied: pyyaml>=6.0.2 in /usr/local/lib/python3.10/dist-packages (from seleniumbase) (6.0.2)\n",
            "Requirement already satisfied: pygments>=2.18.0 in /usr/local/lib/python3.10/dist-packages (from seleniumbase) (2.18.0)\n",
            "Collecting tabcompleter>=1.3.3 (from seleniumbase)\n",
            "  Downloading tabcompleter-1.3.3-py3-none-any.whl.metadata (3.7 kB)\n",
            "Collecting pdbp>=1.5.4 (from seleniumbase)\n",
            "  Downloading pdbp-1.5.4-py3-none-any.whl.metadata (7.0 kB)\n",
            "Requirement already satisfied: idna==3.10 in /usr/local/lib/python3.10/dist-packages (from seleniumbase) (3.10)\n",
            "Requirement already satisfied: chardet==5.2.0 in /usr/local/lib/python3.10/dist-packages (from seleniumbase) (5.2.0)\n",
            "Collecting charset-normalizer==3.3.2 (from seleniumbase)\n",
            "  Downloading charset_normalizer-3.3.2-cp310-cp310-manylinux_2_17_x86_64.manylinux2014_x86_64.whl.metadata (33 kB)\n",
            "Collecting requests==2.31.0 (from seleniumbase)\n",
            "  Downloading requests-2.31.0-py3-none-any.whl.metadata (4.6 kB)\n",
            "Requirement already satisfied: sniffio==1.3.1 in /usr/local/lib/python3.10/dist-packages (from seleniumbase) (1.3.1)\n",
            "Collecting h11==0.14.0 (from seleniumbase)\n",
            "  Downloading h11-0.14.0-py3-none-any.whl.metadata (8.2 kB)\n",
            "Collecting outcome==1.3.0.post0 (from seleniumbase)\n",
            "  Downloading outcome-1.3.0.post0-py2.py3-none-any.whl.metadata (2.6 kB)\n",
            "Collecting trio==0.26.2 (from seleniumbase)\n",
            "  Downloading trio-0.26.2-py3-none-any.whl.metadata (8.6 kB)\n",
            "Collecting trio-websocket==0.11.1 (from seleniumbase)\n",
            "  Downloading trio_websocket-0.11.1-py3-none-any.whl.metadata (4.7 kB)\n",
            "Collecting wsproto==1.2.0 (from seleniumbase)\n",
            "  Downloading wsproto-1.2.0-py3-none-any.whl.metadata (5.6 kB)\n",
            "Requirement already satisfied: websocket-client==1.8.0 in /usr/local/lib/python3.10/dist-packages (from seleniumbase) (1.8.0)\n",
            "Collecting selenium==4.25.0 (from seleniumbase)\n",
            "  Downloading selenium-4.25.0-py3-none-any.whl.metadata (7.1 kB)\n",
            "Collecting cssselect==1.2.0 (from seleniumbase)\n",
            "  Downloading cssselect-1.2.0-py2.py3-none-any.whl.metadata (2.2 kB)\n",
            "Requirement already satisfied: sortedcontainers==2.4.0 in /usr/local/lib/python3.10/dist-packages (from seleniumbase) (2.4.0)\n",
            "Collecting execnet==2.1.1 (from seleniumbase)\n",
            "  Downloading execnet-2.1.1-py3-none-any.whl.metadata (2.9 kB)\n",
            "Requirement already satisfied: iniconfig==2.0.0 in /usr/local/lib/python3.10/dist-packages (from seleniumbase) (2.0.0)\n",
            "Requirement already satisfied: pluggy==1.5.0 in /usr/local/lib/python3.10/dist-packages (from seleniumbase) (1.5.0)\n",
            "Collecting py==1.11.0 (from seleniumbase)\n",
            "  Downloading py-1.11.0-py2.py3-none-any.whl.metadata (2.8 kB)\n",
            "Collecting pytest==8.3.3 (from seleniumbase)\n",
            "  Downloading pytest-8.3.3-py3-none-any.whl.metadata (7.5 kB)\n",
            "Collecting pytest-html==2.0.1 (from seleniumbase)\n",
            "  Downloading pytest_html-2.0.1-py2.py3-none-any.whl.metadata (9.7 kB)\n",
            "Collecting pytest-metadata==3.1.1 (from seleniumbase)\n",
            "  Downloading pytest_metadata-3.1.1-py3-none-any.whl.metadata (8.6 kB)\n",
            "Collecting pytest-ordering==0.6 (from seleniumbase)\n",
            "  Downloading pytest_ordering-0.6-py3-none-any.whl.metadata (1.1 kB)\n",
            "Collecting pytest-rerunfailures==14.0 (from seleniumbase)\n",
            "  Downloading pytest_rerunfailures-14.0-py3-none-any.whl.metadata (18 kB)\n",
            "Collecting pytest-xdist==3.6.1 (from seleniumbase)\n",
            "  Downloading pytest_xdist-3.6.1-py3-none-any.whl.metadata (4.3 kB)\n",
            "Collecting parameterized==0.9.0 (from seleniumbase)\n",
            "  Downloading parameterized-0.9.0-py2.py3-none-any.whl.metadata (18 kB)\n",
            "Collecting behave==1.2.6 (from seleniumbase)\n",
            "  Downloading behave-1.2.6-py2.py3-none-any.whl.metadata (6.4 kB)\n",
            "Requirement already satisfied: soupsieve==2.6 in /usr/local/lib/python3.10/dist-packages (from seleniumbase) (2.6)\n",
            "Requirement already satisfied: beautifulsoup4==4.12.3 in /usr/local/lib/python3.10/dist-packages (from seleniumbase) (4.12.3)\n",
            "Collecting pyotp==2.9.0 (from seleniumbase)\n",
            "  Downloading pyotp-2.9.0-py3-none-any.whl.metadata (9.8 kB)\n",
            "Requirement already satisfied: markdown-it-py==3.0.0 in /usr/local/lib/python3.10/dist-packages (from seleniumbase) (3.0.0)\n",
            "Requirement already satisfied: mdurl==0.1.2 in /usr/local/lib/python3.10/dist-packages (from seleniumbase) (0.1.2)\n",
            "Requirement already satisfied: rich==13.9.2 in /usr/local/lib/python3.10/dist-packages (from seleniumbase) (13.9.2)\n",
            "Collecting python-xlib==0.33 (from seleniumbase)\n",
            "  Downloading python_xlib-0.33-py2.py3-none-any.whl.metadata (6.2 kB)\n",
            "Requirement already satisfied: setuptools>=70.2.0 in /usr/local/lib/python3.10/dist-packages (from seleniumbase) (71.0.4)\n",
            "Requirement already satisfied: urllib3<2.3.0,>=1.26.20 in /usr/local/lib/python3.10/dist-packages (from seleniumbase) (2.2.3)\n",
            "Requirement already satisfied: tomli>=1 in /usr/local/lib/python3.10/dist-packages (from pytest==8.3.3->seleniumbase) (2.0.2)\n",
            "Requirement already satisfied: pysocks!=1.5.7,<2.0,>=1.5.6 in /usr/local/lib/python3.10/dist-packages (from urllib3[socks]<3,>=1.26->selenium==4.25.0->seleniumbase) (1.7.1)\n",
            "Downloading seleniumbase-4.31.6-py3-none-any.whl (553 kB)\n",
            "\u001b[2K   \u001b[90m━━━━━━━━━━━━━━━━━━━━━━━━━━━━━━━━━━━━━━━━\u001b[0m \u001b[32m553.3/553.3 kB\u001b[0m \u001b[31m13.7 MB/s\u001b[0m eta \u001b[36m0:00:00\u001b[0m\n",
            "\u001b[?25hDownloading behave-1.2.6-py2.py3-none-any.whl (136 kB)\n",
            "\u001b[2K   \u001b[90m━━━━━━━━━━━━━━━━━━━━━━━━━━━━━━━━━━━━━━━━\u001b[0m \u001b[32m136.8/136.8 kB\u001b[0m \u001b[31m9.2 MB/s\u001b[0m eta \u001b[36m0:00:00\u001b[0m\n",
            "\u001b[?25hDownloading charset_normalizer-3.3.2-cp310-cp310-manylinux_2_17_x86_64.manylinux2014_x86_64.whl (142 kB)\n",
            "\u001b[2K   \u001b[90m━━━━━━━━━━━━━━━━━━━━━━━━━━━━━━━━━━━━━━━━\u001b[0m \u001b[32m142.1/142.1 kB\u001b[0m \u001b[31m10.5 MB/s\u001b[0m eta \u001b[36m0:00:00\u001b[0m\n",
            "\u001b[?25hDownloading cssselect-1.2.0-py2.py3-none-any.whl (18 kB)\n",
            "Downloading execnet-2.1.1-py3-none-any.whl (40 kB)\n",
            "\u001b[2K   \u001b[90m━━━━━━━━━━━━━━━━━━━━━━━━━━━━━━━━━━━━━━━━\u001b[0m \u001b[32m40.6/40.6 kB\u001b[0m \u001b[31m2.7 MB/s\u001b[0m eta \u001b[36m0:00:00\u001b[0m\n",
            "\u001b[?25hDownloading h11-0.14.0-py3-none-any.whl (58 kB)\n",
            "\u001b[2K   \u001b[90m━━━━━━━━━━━━━━━━━━━━━━━━━━━━━━━━━━━━━━━━\u001b[0m \u001b[32m58.3/58.3 kB\u001b[0m \u001b[31m3.2 MB/s\u001b[0m eta \u001b[36m0:00:00\u001b[0m\n",
            "\u001b[?25hDownloading outcome-1.3.0.post0-py2.py3-none-any.whl (10 kB)\n",
            "Downloading parameterized-0.9.0-py2.py3-none-any.whl (20 kB)\n",
            "Downloading py-1.11.0-py2.py3-none-any.whl (98 kB)\n",
            "\u001b[2K   \u001b[90m━━━━━━━━━━━━━━━━━━━━━━━━━━━━━━━━━━━━━━━━\u001b[0m \u001b[32m98.7/98.7 kB\u001b[0m \u001b[31m7.1 MB/s\u001b[0m eta \u001b[36m0:00:00\u001b[0m\n",
            "\u001b[?25hDownloading pyotp-2.9.0-py3-none-any.whl (13 kB)\n",
            "Downloading pytest-8.3.3-py3-none-any.whl (342 kB)\n",
            "\u001b[2K   \u001b[90m━━━━━━━━━━━━━━━━━━━━━━━━━━━━━━━━━━━━━━━━\u001b[0m \u001b[32m342.3/342.3 kB\u001b[0m \u001b[31m18.8 MB/s\u001b[0m eta \u001b[36m0:00:00\u001b[0m\n",
            "\u001b[?25hDownloading pytest_html-2.0.1-py2.py3-none-any.whl (15 kB)\n",
            "Downloading pytest_metadata-3.1.1-py3-none-any.whl (11 kB)\n",
            "Downloading pytest_ordering-0.6-py3-none-any.whl (4.6 kB)\n",
            "Downloading pytest_rerunfailures-14.0-py3-none-any.whl (12 kB)\n",
            "Downloading pytest_xdist-3.6.1-py3-none-any.whl (46 kB)\n",
            "\u001b[2K   \u001b[90m━━━━━━━━━━━━━━━━━━━━━━━━━━━━━━━━━━━━━━━━\u001b[0m \u001b[32m46.1/46.1 kB\u001b[0m \u001b[31m3.5 MB/s\u001b[0m eta \u001b[36m0:00:00\u001b[0m\n",
            "\u001b[?25hDownloading python_xlib-0.33-py2.py3-none-any.whl (182 kB)\n",
            "\u001b[2K   \u001b[90m━━━━━━━━━━━━━━━━━━━━━━━━━━━━━━━━━━━━━━━━\u001b[0m \u001b[32m182.2/182.2 kB\u001b[0m \u001b[31m11.9 MB/s\u001b[0m eta \u001b[36m0:00:00\u001b[0m\n",
            "\u001b[?25hDownloading requests-2.31.0-py3-none-any.whl (62 kB)\n",
            "\u001b[2K   \u001b[90m━━━━━━━━━━━━━━━━━━━━━━━━━━━━━━━━━━━━━━━━\u001b[0m \u001b[32m62.6/62.6 kB\u001b[0m \u001b[31m4.0 MB/s\u001b[0m eta \u001b[36m0:00:00\u001b[0m\n",
            "\u001b[?25hDownloading selenium-4.25.0-py3-none-any.whl (9.7 MB)\n",
            "\u001b[2K   \u001b[90m━━━━━━━━━━━━━━━━━━━━━━━━━━━━━━━━━━━━━━━━\u001b[0m \u001b[32m9.7/9.7 MB\u001b[0m \u001b[31m57.6 MB/s\u001b[0m eta \u001b[36m0:00:00\u001b[0m\n",
            "\u001b[?25hDownloading trio-0.26.2-py3-none-any.whl (475 kB)\n",
            "\u001b[2K   \u001b[90m━━━━━━━━━━━━━━━━━━━━━━━━━━━━━━━━━━━━━━━━\u001b[0m \u001b[32m476.0/476.0 kB\u001b[0m \u001b[31m26.2 MB/s\u001b[0m eta \u001b[36m0:00:00\u001b[0m\n",
            "\u001b[?25hDownloading trio_websocket-0.11.1-py3-none-any.whl (17 kB)\n",
            "Downloading wsproto-1.2.0-py3-none-any.whl (24 kB)\n",
            "Downloading colorama-0.4.6-py2.py3-none-any.whl (25 kB)\n",
            "Downloading fasteners-0.19-py3-none-any.whl (18 kB)\n",
            "Downloading parse-1.20.2-py2.py3-none-any.whl (20 kB)\n",
            "Downloading parse_type-0.6.4-py2.py3-none-any.whl (27 kB)\n",
            "Downloading pdbp-1.5.4-py3-none-any.whl (21 kB)\n",
            "Downloading pynose-1.5.3-py3-none-any.whl (130 kB)\n",
            "\u001b[2K   \u001b[90m━━━━━━━━━━━━━━━━━━━━━━━━━━━━━━━━━━━━━━━━\u001b[0m \u001b[32m130.5/130.5 kB\u001b[0m \u001b[31m8.0 MB/s\u001b[0m eta \u001b[36m0:00:00\u001b[0m\n",
            "\u001b[?25hDownloading sbvirtualdisplay-1.3.0-py2.py3-none-any.whl (12 kB)\n",
            "Downloading tabcompleter-1.3.3-py3-none-any.whl (6.7 kB)\n",
            "Installing collected packages: parse, tabcompleter, sbvirtualdisplay, python-xlib, pytest, pyotp, pynose, py, parse-type, parameterized, outcome, h11, fasteners, execnet, cssselect, colorama, charset-normalizer, wsproto, trio, requests, pytest-xdist, pytest-rerunfailures, pytest-ordering, pytest-metadata, pdbp, behave, trio-websocket, pytest-html, selenium, seleniumbase\n",
            "  Attempting uninstall: pytest\n",
            "    Found existing installation: pytest 7.4.4\n",
            "    Uninstalling pytest-7.4.4:\n",
            "      Successfully uninstalled pytest-7.4.4\n",
            "  Attempting uninstall: charset-normalizer\n",
            "    Found existing installation: charset-normalizer 3.4.0\n",
            "    Uninstalling charset-normalizer-3.4.0:\n",
            "      Successfully uninstalled charset-normalizer-3.4.0\n",
            "  Attempting uninstall: requests\n",
            "    Found existing installation: requests 2.32.3\n",
            "    Uninstalling requests-2.32.3:\n",
            "      Successfully uninstalled requests-2.32.3\n",
            "\u001b[31mERROR: pip's dependency resolver does not currently take into account all the packages that are installed. This behaviour is the source of the following dependency conflicts.\n",
            "google-colab 1.0.0 requires requests==2.32.3, but you have requests 2.31.0 which is incompatible.\u001b[0m\u001b[31m\n",
            "\u001b[0mSuccessfully installed behave-1.2.6 charset-normalizer-3.3.2 colorama-0.4.6 cssselect-1.2.0 execnet-2.1.1 fasteners-0.19 h11-0.14.0 outcome-1.3.0.post0 parameterized-0.9.0 parse-1.20.2 parse-type-0.6.4 pdbp-1.5.4 py-1.11.0 pynose-1.5.3 pyotp-2.9.0 pytest-8.3.3 pytest-html-2.0.1 pytest-metadata-3.1.1 pytest-ordering-0.6 pytest-rerunfailures-14.0 pytest-xdist-3.6.1 python-xlib-0.33 requests-2.31.0 sbvirtualdisplay-1.3.0 selenium-4.25.0 seleniumbase-4.31.6 tabcompleter-1.3.3 trio-0.26.2 trio-websocket-0.11.1 wsproto-1.2.0\n"
          ]
        }
      ],
      "source": [
        "!pip install -U seleniumbase"
      ]
    },
    {
      "cell_type": "code",
      "source": [
        "!wget https://dl.google.com/linux/direct/google-chrome-stable_current_amd64.deb\n",
        "!sudo dpkg -i google-chrome-stable_current_amd64.deb\n",
        "!sudo apt-get install -f  # Para resolver dependencias\n"
      ],
      "metadata": {
        "id": "4YJ1fCOPrN-v",
        "outputId": "224b2b79-6bde-484e-c8c4-36d479a90338",
        "colab": {
          "base_uri": "https://localhost:8080/"
        },
        "collapsed": true
      },
      "execution_count": 6,
      "outputs": [
        {
          "output_type": "stream",
          "name": "stdout",
          "text": [
            "--2024-10-15 15:47:55--  https://dl.google.com/linux/direct/google-chrome-stable_current_amd64.deb\n",
            "Resolving dl.google.com (dl.google.com)... 64.233.187.190, 64.233.187.136, 64.233.187.91, ...\n",
            "Connecting to dl.google.com (dl.google.com)|64.233.187.190|:443... connected.\n",
            "HTTP request sent, awaiting response... 200 OK\n",
            "Length: 110925276 (106M) [application/x-debian-package]\n",
            "Saving to: ‘google-chrome-stable_current_amd64.deb’\n",
            "\n",
            "google-chrome-stabl 100%[===================>] 105.79M   165MB/s    in 0.6s    \n",
            "\n",
            "2024-10-15 15:47:56 (165 MB/s) - ‘google-chrome-stable_current_amd64.deb’ saved [110925276/110925276]\n",
            "\n",
            "Selecting previously unselected package google-chrome-stable.\n",
            "(Reading database ... 123621 files and directories currently installed.)\n",
            "Preparing to unpack google-chrome-stable_current_amd64.deb ...\n",
            "Unpacking google-chrome-stable (129.0.6668.100-1) ...\n",
            "\u001b[1mdpkg:\u001b[0m dependency problems prevent configuration of google-chrome-stable:\n",
            " google-chrome-stable depends on libvulkan1; however:\n",
            "  Package libvulkan1 is not installed.\n",
            "\n",
            "\u001b[1mdpkg:\u001b[0m error processing package google-chrome-stable (--install):\n",
            " dependency problems - leaving unconfigured\n",
            "Processing triggers for man-db (2.10.2-1) ...\n",
            "Errors were encountered while processing:\n",
            " google-chrome-stable\n",
            "Reading package lists... Done\n",
            "Building dependency tree... Done\n",
            "Reading state information... Done\n",
            "Correcting dependencies... Done\n",
            "The following additional packages will be installed:\n",
            "  libvulkan1 mesa-vulkan-drivers\n",
            "The following NEW packages will be installed:\n",
            "  libvulkan1 mesa-vulkan-drivers\n",
            "0 upgraded, 2 newly installed, 0 to remove and 49 not upgraded.\n",
            "1 not fully installed or removed.\n",
            "Need to get 10.9 MB of archives.\n",
            "After this operation, 51.3 MB of additional disk space will be used.\n",
            "Get:1 http://archive.ubuntu.com/ubuntu jammy/main amd64 libvulkan1 amd64 1.3.204.1-2 [128 kB]\n",
            "Get:2 http://archive.ubuntu.com/ubuntu jammy-updates/main amd64 mesa-vulkan-drivers amd64 23.2.1-1ubuntu3.1~22.04.2 [10.7 MB]\n",
            "Fetched 10.9 MB in 3s (3,333 kB/s)\n",
            "debconf: unable to initialize frontend: Dialog\n",
            "debconf: (No usable dialog-like program is installed, so the dialog based frontend cannot be used. at /usr/share/perl5/Debconf/FrontEnd/Dialog.pm line 78, <> line 2.)\n",
            "debconf: falling back to frontend: Readline\n",
            "debconf: unable to initialize frontend: Readline\n",
            "debconf: (This frontend requires a controlling tty.)\n",
            "debconf: falling back to frontend: Teletype\n",
            "dpkg-preconfigure: unable to re-open stdin: \n",
            "Selecting previously unselected package libvulkan1:amd64.\n",
            "(Reading database ... 123738 files and directories currently installed.)\n",
            "Preparing to unpack .../libvulkan1_1.3.204.1-2_amd64.deb ...\n",
            "Unpacking libvulkan1:amd64 (1.3.204.1-2) ...\n",
            "Selecting previously unselected package mesa-vulkan-drivers:amd64.\n",
            "Preparing to unpack .../mesa-vulkan-drivers_23.2.1-1ubuntu3.1~22.04.2_amd64.deb ...\n",
            "Unpacking mesa-vulkan-drivers:amd64 (23.2.1-1ubuntu3.1~22.04.2) ...\n",
            "Setting up libvulkan1:amd64 (1.3.204.1-2) ...\n",
            "Setting up mesa-vulkan-drivers:amd64 (23.2.1-1ubuntu3.1~22.04.2) ...\n",
            "Setting up google-chrome-stable (129.0.6668.100-1) ...\n",
            "update-alternatives: using /usr/bin/google-chrome-stable to provide /usr/bin/x-www-browser (x-www-browser) in auto mode\n",
            "update-alternatives: using /usr/bin/google-chrome-stable to provide /usr/bin/gnome-www-browser (gnome-www-browser) in auto mode\n",
            "update-alternatives: using /usr/bin/google-chrome-stable to provide /usr/bin/google-chrome (google-chrome) in auto mode\n",
            "Processing triggers for libc-bin (2.35-0ubuntu3.4) ...\n",
            "/sbin/ldconfig.real: /usr/local/lib/libur_adapter_opencl.so.0 is not a symbolic link\n",
            "\n",
            "/sbin/ldconfig.real: /usr/local/lib/libur_loader.so.0 is not a symbolic link\n",
            "\n",
            "/sbin/ldconfig.real: /usr/local/lib/libtbbbind.so.3 is not a symbolic link\n",
            "\n",
            "/sbin/ldconfig.real: /usr/local/lib/libtbb.so.12 is not a symbolic link\n",
            "\n",
            "/sbin/ldconfig.real: /usr/local/lib/libtbbbind_2_0.so.3 is not a symbolic link\n",
            "\n",
            "/sbin/ldconfig.real: /usr/local/lib/libtbbmalloc_proxy.so.2 is not a symbolic link\n",
            "\n",
            "/sbin/ldconfig.real: /usr/local/lib/libur_adapter_level_zero.so.0 is not a symbolic link\n",
            "\n",
            "/sbin/ldconfig.real: /usr/local/lib/libtbbmalloc.so.2 is not a symbolic link\n",
            "\n",
            "/sbin/ldconfig.real: /usr/local/lib/libtbbbind_2_5.so.3 is not a symbolic link\n",
            "\n"
          ]
        }
      ]
    },
    {
      "cell_type": "code",
      "source": [
        "from seleniumbase import Driver\n",
        "from seleniumbase import page_actions\n",
        "\n",
        "driver = Driver(uc=True)\n",
        "driver.get(\"https://seti.afip.gob.ar/padron-puc-constancia-internet/jsp/Constancia.jsp\")"
      ],
      "metadata": {
        "collapsed": true,
        "id": "0V5-YXukE2Me",
        "outputId": "b3818e52-9943-48db-98e6-ab199ad117bf",
        "colab": {
          "base_uri": "https://localhost:8080/"
        }
      },
      "execution_count": 7,
      "outputs": [
        {
          "output_type": "stream",
          "name": "stdout",
          "text": [
            "\n",
            "Warning: uc_driver not found. Getting it now:\n",
            "\n",
            "*** chromedriver to download = 129.0.6668.100 (Latest Stable) \n",
            "\n",
            "Downloading chromedriver-linux64.zip from:\n",
            "https://storage.googleapis.com/chrome-for-testing-public/129.0.6668.100/linux64/chromedriver-linux64.zip ...\n",
            "Download Complete!\n",
            "\n",
            "Extracting ['chromedriver'] from chromedriver-linux64.zip ...\n",
            "Unzip Complete!\n",
            "\n",
            "The file [uc_driver] was saved to:\n",
            "/usr/local/lib/python3.10/dist-packages/seleniumbase/drivers/\n",
            "uc_driver\n",
            "\n",
            "Making [uc_driver 129.0.6668.100] executable ...\n",
            "[uc_driver 129.0.6668.100] is now ready for use!\n",
            "\n",
            "\n",
            "*** chromedriver to download = 129.0.6668.100 (Latest Stable) \n",
            "\n",
            "Downloading chromedriver-linux64.zip from:\n",
            "https://storage.googleapis.com/chrome-for-testing-public/129.0.6668.100/linux64/chromedriver-linux64.zip ...\n",
            "Download Complete!\n",
            "\n",
            "Extracting ['chromedriver'] from chromedriver-linux64.zip ...\n",
            "Unzip Complete!\n",
            "\n",
            "The file [chromedriver] was saved to:\n",
            "/usr/local/lib/python3.10/dist-packages/seleniumbase/drivers/\n",
            "chromedriver\n",
            "\n",
            "Making [chromedriver 129.0.6668.100] executable ...\n",
            "[chromedriver 129.0.6668.100] is now ready for use!\n",
            "\n"
          ]
        }
      ]
    },
    {
      "cell_type": "code",
      "source": [
        "!pip install pytesseract\n",
        "!sudo apt install tesseract-ocr"
      ],
      "metadata": {
        "id": "BQiD2J4FSEGy",
        "outputId": "37e6530f-3044-4010-d882-10f6c1ba248f",
        "colab": {
          "base_uri": "https://localhost:8080/"
        }
      },
      "execution_count": 13,
      "outputs": [
        {
          "output_type": "stream",
          "name": "stdout",
          "text": [
            "Requirement already satisfied: pytesseract in /usr/local/lib/python3.10/dist-packages (0.3.13)\n",
            "Requirement already satisfied: packaging>=21.3 in /usr/local/lib/python3.10/dist-packages (from pytesseract) (24.1)\n",
            "Requirement already satisfied: Pillow>=8.0.0 in /usr/local/lib/python3.10/dist-packages (from pytesseract) (10.4.0)\n",
            "Reading package lists... Done\n",
            "Building dependency tree... Done\n",
            "Reading state information... Done\n",
            "The following additional packages will be installed:\n",
            "  tesseract-ocr-eng tesseract-ocr-osd\n",
            "The following NEW packages will be installed:\n",
            "  tesseract-ocr tesseract-ocr-eng tesseract-ocr-osd\n",
            "0 upgraded, 3 newly installed, 0 to remove and 49 not upgraded.\n",
            "Need to get 4,816 kB of archives.\n",
            "After this operation, 15.6 MB of additional disk space will be used.\n",
            "Get:1 http://archive.ubuntu.com/ubuntu jammy/universe amd64 tesseract-ocr-eng all 1:4.00~git30-7274cfa-1.1 [1,591 kB]\n",
            "Get:2 http://archive.ubuntu.com/ubuntu jammy/universe amd64 tesseract-ocr-osd all 1:4.00~git30-7274cfa-1.1 [2,990 kB]\n",
            "Get:3 http://archive.ubuntu.com/ubuntu jammy/universe amd64 tesseract-ocr amd64 4.1.1-2.1build1 [236 kB]\n",
            "Fetched 4,816 kB in 3s (1,666 kB/s)\n",
            "debconf: unable to initialize frontend: Dialog\n",
            "debconf: (No usable dialog-like program is installed, so the dialog based frontend cannot be used. at /usr/share/perl5/Debconf/FrontEnd/Dialog.pm line 78, <> line 3.)\n",
            "debconf: falling back to frontend: Readline\n",
            "debconf: unable to initialize frontend: Readline\n",
            "debconf: (This frontend requires a controlling tty.)\n",
            "debconf: falling back to frontend: Teletype\n",
            "dpkg-preconfigure: unable to re-open stdin: \n",
            "Selecting previously unselected package tesseract-ocr-eng.\n",
            "(Reading database ... 123776 files and directories currently installed.)\n",
            "Preparing to unpack .../tesseract-ocr-eng_1%3a4.00~git30-7274cfa-1.1_all.deb ...\n",
            "Unpacking tesseract-ocr-eng (1:4.00~git30-7274cfa-1.1) ...\n",
            "Selecting previously unselected package tesseract-ocr-osd.\n",
            "Preparing to unpack .../tesseract-ocr-osd_1%3a4.00~git30-7274cfa-1.1_all.deb ...\n",
            "Unpacking tesseract-ocr-osd (1:4.00~git30-7274cfa-1.1) ...\n",
            "Selecting previously unselected package tesseract-ocr.\n",
            "Preparing to unpack .../tesseract-ocr_4.1.1-2.1build1_amd64.deb ...\n",
            "Unpacking tesseract-ocr (4.1.1-2.1build1) ...\n",
            "Setting up tesseract-ocr-eng (1:4.00~git30-7274cfa-1.1) ...\n",
            "Setting up tesseract-ocr-osd (1:4.00~git30-7274cfa-1.1) ...\n",
            "Setting up tesseract-ocr (4.1.1-2.1build1) ...\n",
            "Processing triggers for man-db (2.10.2-1) ...\n"
          ]
        }
      ]
    },
    {
      "cell_type": "code",
      "source": [
        "\n",
        "from selenium.webdriver.common.by import By\n",
        "import pytesseract\n",
        "import requests\n",
        "\n",
        "input_element=driver.find_element(By.XPATH, '//*[@id=\"cuit\"]')\n",
        "input_element.send_keys(\"20292489936\")\n",
        "\n",
        "input_element=driver.find_element(By.XPATH, '//*[@id=\"captchaField\"]')\n",
        "input_element.send_keys(\"12345\")\n",
        "\n",
        "input_element=driver.find_element(By.XPATH, '//*[@id=\"CaptchaCode\"]')\n",
        "url = input_element.get_attribute('src')\n",
        "img_data = requests.get(url).content\n",
        "\n",
        "with open('captcha.jpg', 'wb') as handler:\n",
        "    handler.write(img_data)\n",
        "\n",
        "raw = pytesseract.image_to_string('captcha.jpg')\n",
        "raw\n",
        "\n",
        "\n",
        "\n",
        "\n",
        "\n",
        "\n"
      ],
      "metadata": {
        "id": "2qF4aKsqFQuq",
        "outputId": "24e92b22-af08-4150-a42f-7858c0b5993b",
        "colab": {
          "base_uri": "https://localhost:8080/",
          "height": 35
        }
      },
      "execution_count": 33,
      "outputs": [
        {
          "output_type": "execute_result",
          "data": {
            "text/plain": [
              "'{S876\\n\\x0c'"
            ],
            "application/vnd.google.colaboratory.intrinsic+json": {
              "type": "string"
            }
          },
          "metadata": {},
          "execution_count": 33
        }
      ]
    },
    {
      "cell_type": "code",
      "source": [
        "screenshot_name = \"Screenshot.png\"\n",
        "driver.save_screenshot(screenshot_name)\n",
        "print(\"\\nScreenshot saved to: %s\" % screenshot_name)\n",
        "driver.quit()"
      ],
      "metadata": {
        "colab": {
          "base_uri": "https://localhost:8080/"
        },
        "id": "4ct-aunckQMl",
        "outputId": "b7073503-a1d4-4033-a0eb-d1caecf52a63"
      },
      "execution_count": null,
      "outputs": [
        {
          "output_type": "stream",
          "name": "stdout",
          "text": [
            "\n",
            "Screenshot saved to: Screenshot.png\n"
          ]
        }
      ]
    }
  ]
}